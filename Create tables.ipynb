{
 "cells": [
  {
   "cell_type": "markdown",
   "metadata": {},
   "source": [
    "# Create Tables: Data Lake with Spark\n",
    "## Import Packages"
   ]
  },
  {
   "cell_type": "code",
   "execution_count": 1,
   "metadata": {},
   "outputs": [],
   "source": [
    "import configparser\n",
    "from datetime import datetime\n",
    "import os\n",
    "from pyspark.sql import functions as F\n",
    "from pyspark.sql import SparkSession\n",
    "from pyspark.sql.functions import udf, col\n",
    "from pyspark.sql.types import TimestampType, DateType, IntegerType\n",
    "from pyspark.sql.functions import (year, month, dayofmonth, hour,\n",
    "                                   weekofyear, dayofweek, date_format,\n",
    "                                   monotonically_increasing_id)"
   ]
  },
  {
   "cell_type": "code",
   "execution_count": 2,
   "metadata": {},
   "outputs": [],
   "source": [
    "os.environ['AWS_ACCESS_KEY_ID'] = ''\n",
    "os.environ['AWS_SECRET_ACCESS_KEY'] = ''\n",
    "\n",
    "# uncomment the next two lines if you would like to use config files\n",
    "#os.environ['AWS_ACCESS_KEY_ID']=config['AWS_ACCESS_KEY_ID']\n",
    "#os.environ['AWS_SECRET_ACCESS_KEY']=config['AWS_SECRET_ACCESS_KEY']"
   ]
  },
  {
   "cell_type": "markdown",
   "metadata": {},
   "source": [
    "## Creates a Spark Session"
   ]
  },
  {
   "cell_type": "code",
   "execution_count": 3,
   "metadata": {},
   "outputs": [],
   "source": [
    "def create_spark_session():\n",
    "    spark = SparkSession \\\n",
    "        .builder \\\n",
    "        .config(\"spark.jars.packages\", \"org.apache.hadoop:hadoop-aws:2.7.0\") \\\n",
    "        .getOrCreate()\n",
    "    return spark\n",
    "\n",
    "spark = create_spark_session()"
   ]
  },
  {
   "cell_type": "code",
   "execution_count": 4,
   "metadata": {},
   "outputs": [],
   "source": [
    "input_data = \"s3a://udacity-dend/\"\n",
    "output_data = \"s3a://lake-bucket-sparkify/\""
   ]
  },
  {
   "cell_type": "markdown",
   "metadata": {},
   "source": [
    "## Process Song Data"
   ]
  },
  {
   "cell_type": "code",
   "execution_count": 5,
   "metadata": {},
   "outputs": [],
   "source": [
    "#song_data = os.path.join(input_data, 'song_data', '*', '*', '*', '*')\n",
    "song_data = os.path.join(input_data, 'song_data/A/A/*/*.json')"
   ]
  },
  {
   "cell_type": "code",
   "execution_count": 6,
   "metadata": {},
   "outputs": [],
   "source": [
    "song_df = spark.read.json(song_data)"
   ]
  },
  {
   "cell_type": "code",
   "execution_count": 7,
   "metadata": {},
   "outputs": [
    {
     "data": {
      "text/plain": [
       "604"
      ]
     },
     "execution_count": 7,
     "metadata": {},
     "output_type": "execute_result"
    }
   ],
   "source": [
    "song_df.count()"
   ]
  },
  {
   "cell_type": "code",
   "execution_count": 8,
   "metadata": {},
   "outputs": [
    {
     "name": "stdout",
     "output_type": "stream",
     "text": [
      "root\n",
      " |-- artist_id: string (nullable = true)\n",
      " |-- artist_latitude: double (nullable = true)\n",
      " |-- artist_location: string (nullable = true)\n",
      " |-- artist_longitude: double (nullable = true)\n",
      " |-- artist_name: string (nullable = true)\n",
      " |-- duration: double (nullable = true)\n",
      " |-- num_songs: long (nullable = true)\n",
      " |-- song_id: string (nullable = true)\n",
      " |-- title: string (nullable = true)\n",
      " |-- year: long (nullable = true)\n",
      "\n"
     ]
    }
   ],
   "source": [
    "song_df.printSchema()"
   ]
  },
  {
   "cell_type": "code",
   "execution_count": 9,
   "metadata": {},
   "outputs": [
    {
     "data": {
      "text/html": [
       "<div>\n",
       "<style scoped>\n",
       "    .dataframe tbody tr th:only-of-type {\n",
       "        vertical-align: middle;\n",
       "    }\n",
       "\n",
       "    .dataframe tbody tr th {\n",
       "        vertical-align: top;\n",
       "    }\n",
       "\n",
       "    .dataframe thead th {\n",
       "        text-align: right;\n",
       "    }\n",
       "</style>\n",
       "<table border=\"1\" class=\"dataframe\">\n",
       "  <thead>\n",
       "    <tr style=\"text-align: right;\">\n",
       "      <th></th>\n",
       "      <th>artist_id</th>\n",
       "      <th>artist_latitude</th>\n",
       "      <th>artist_location</th>\n",
       "      <th>artist_longitude</th>\n",
       "      <th>artist_name</th>\n",
       "      <th>duration</th>\n",
       "      <th>num_songs</th>\n",
       "      <th>song_id</th>\n",
       "      <th>title</th>\n",
       "      <th>year</th>\n",
       "    </tr>\n",
       "  </thead>\n",
       "  <tbody>\n",
       "    <tr>\n",
       "      <th>0</th>\n",
       "      <td>ARSUVLW12454A4C8B8</td>\n",
       "      <td>35.83073</td>\n",
       "      <td>Tennessee</td>\n",
       "      <td>-85.97874</td>\n",
       "      <td>Royal Philharmonic Orchestra/Sir Thomas Beecham</td>\n",
       "      <td>94.56281</td>\n",
       "      <td>1</td>\n",
       "      <td>SOBTCUI12A8AE48B70</td>\n",
       "      <td>Faust: Ballet Music (1959 Digital Remaster): V...</td>\n",
       "      <td>0</td>\n",
       "    </tr>\n",
       "    <tr>\n",
       "      <th>1</th>\n",
       "      <td>ARXQC081187FB4AD42</td>\n",
       "      <td>54.31407</td>\n",
       "      <td>UK</td>\n",
       "      <td>-2.23001</td>\n",
       "      <td>William Shatner_ David Itkin_ The Arkansas Sym...</td>\n",
       "      <td>1047.71873</td>\n",
       "      <td>1</td>\n",
       "      <td>SOXRPUH12AB017F769</td>\n",
       "      <td>Exodus: Part I: Moses and Pharaoh</td>\n",
       "      <td>0</td>\n",
       "    </tr>\n",
       "    <tr>\n",
       "      <th>2</th>\n",
       "      <td>ARWUNH81187FB4A3E0</td>\n",
       "      <td>NaN</td>\n",
       "      <td>Miami , Florida</td>\n",
       "      <td>NaN</td>\n",
       "      <td>Trick Daddy</td>\n",
       "      <td>227.10812</td>\n",
       "      <td>1</td>\n",
       "      <td>SOVNKJI12A8C13CB0D</td>\n",
       "      <td>Take It To Da House (Featuring The Slip N' Sli...</td>\n",
       "      <td>2001</td>\n",
       "    </tr>\n",
       "    <tr>\n",
       "      <th>3</th>\n",
       "      <td>ARTC1LV1187B9A4858</td>\n",
       "      <td>51.45360</td>\n",
       "      <td>Goldsmith's College, Lewisham, Lo</td>\n",
       "      <td>-0.01802</td>\n",
       "      <td>The Bonzo Dog Band</td>\n",
       "      <td>301.40036</td>\n",
       "      <td>1</td>\n",
       "      <td>SOAFBCP12A8C13CC7D</td>\n",
       "      <td>King Of Scurf (2007 Digital Remaster)</td>\n",
       "      <td>1972</td>\n",
       "    </tr>\n",
       "    <tr>\n",
       "      <th>4</th>\n",
       "      <td>ARA23XO1187B9AF18F</td>\n",
       "      <td>40.57885</td>\n",
       "      <td>Carteret, New Jersey</td>\n",
       "      <td>-74.21956</td>\n",
       "      <td>The Smithereens</td>\n",
       "      <td>192.52200</td>\n",
       "      <td>1</td>\n",
       "      <td>SOKTJDS12AF72A25E5</td>\n",
       "      <td>Drown In My Own Tears (24-Bit Digitally Remast...</td>\n",
       "      <td>0</td>\n",
       "    </tr>\n",
       "  </tbody>\n",
       "</table>\n",
       "</div>"
      ],
      "text/plain": [
       "            artist_id  artist_latitude                    artist_location  \\\n",
       "0  ARSUVLW12454A4C8B8         35.83073                          Tennessee   \n",
       "1  ARXQC081187FB4AD42         54.31407                                 UK   \n",
       "2  ARWUNH81187FB4A3E0              NaN                    Miami , Florida   \n",
       "3  ARTC1LV1187B9A4858         51.45360  Goldsmith's College, Lewisham, Lo   \n",
       "4  ARA23XO1187B9AF18F         40.57885               Carteret, New Jersey   \n",
       "\n",
       "   artist_longitude                                        artist_name  \\\n",
       "0         -85.97874    Royal Philharmonic Orchestra/Sir Thomas Beecham   \n",
       "1          -2.23001  William Shatner_ David Itkin_ The Arkansas Sym...   \n",
       "2               NaN                                        Trick Daddy   \n",
       "3          -0.01802                                 The Bonzo Dog Band   \n",
       "4         -74.21956                                    The Smithereens   \n",
       "\n",
       "     duration  num_songs             song_id  \\\n",
       "0    94.56281          1  SOBTCUI12A8AE48B70   \n",
       "1  1047.71873          1  SOXRPUH12AB017F769   \n",
       "2   227.10812          1  SOVNKJI12A8C13CB0D   \n",
       "3   301.40036          1  SOAFBCP12A8C13CC7D   \n",
       "4   192.52200          1  SOKTJDS12AF72A25E5   \n",
       "\n",
       "                                               title  year  \n",
       "0  Faust: Ballet Music (1959 Digital Remaster): V...     0  \n",
       "1                  Exodus: Part I: Moses and Pharaoh     0  \n",
       "2  Take It To Da House (Featuring The Slip N' Sli...  2001  \n",
       "3              King Of Scurf (2007 Digital Remaster)  1972  \n",
       "4  Drown In My Own Tears (24-Bit Digitally Remast...     0  "
      ]
     },
     "execution_count": 9,
     "metadata": {},
     "output_type": "execute_result"
    }
   ],
   "source": [
    "song_df.limit(5).toPandas()"
   ]
  },
  {
   "cell_type": "markdown",
   "metadata": {},
   "source": [
    "### Create Song Table"
   ]
  },
  {
   "cell_type": "code",
   "execution_count": 10,
   "metadata": {},
   "outputs": [
    {
     "data": {
      "text/html": [
       "<div>\n",
       "<style scoped>\n",
       "    .dataframe tbody tr th:only-of-type {\n",
       "        vertical-align: middle;\n",
       "    }\n",
       "\n",
       "    .dataframe tbody tr th {\n",
       "        vertical-align: top;\n",
       "    }\n",
       "\n",
       "    .dataframe thead th {\n",
       "        text-align: right;\n",
       "    }\n",
       "</style>\n",
       "<table border=\"1\" class=\"dataframe\">\n",
       "  <thead>\n",
       "    <tr style=\"text-align: right;\">\n",
       "      <th></th>\n",
       "      <th>song_id</th>\n",
       "      <th>title</th>\n",
       "      <th>artist_id</th>\n",
       "      <th>year</th>\n",
       "      <th>duration</th>\n",
       "    </tr>\n",
       "  </thead>\n",
       "  <tbody>\n",
       "    <tr>\n",
       "      <th>0</th>\n",
       "      <td>SOHQZIB12A6D4F9FAF</td>\n",
       "      <td>N****_ What's Up [Featuring 50 Cent] (Album Ve...</td>\n",
       "      <td>ARWAFY51187FB5C4EF</td>\n",
       "      <td>2006</td>\n",
       "      <td>196.85832</td>\n",
       "    </tr>\n",
       "    <tr>\n",
       "      <th>1</th>\n",
       "      <td>SOCOHAX12A8C13B6B2</td>\n",
       "      <td>Walking With The Duke (LP Version)</td>\n",
       "      <td>ARE5F2F1187B9AB7E9</td>\n",
       "      <td>1966</td>\n",
       "      <td>152.16281</td>\n",
       "    </tr>\n",
       "    <tr>\n",
       "      <th>2</th>\n",
       "      <td>SOKNGDE12AB017CA4D</td>\n",
       "      <td>Step Into Your Skin</td>\n",
       "      <td>ARE4SDM1187FB4D7E4</td>\n",
       "      <td>0</td>\n",
       "      <td>139.72853</td>\n",
       "    </tr>\n",
       "    <tr>\n",
       "      <th>3</th>\n",
       "      <td>SOQBZDP12AB0180E28</td>\n",
       "      <td>Depths Of Bavaria</td>\n",
       "      <td>ARWRO6T1187B98C5D6</td>\n",
       "      <td>2008</td>\n",
       "      <td>257.46240</td>\n",
       "    </tr>\n",
       "    <tr>\n",
       "      <th>4</th>\n",
       "      <td>SODZYPO12A8C13A91E</td>\n",
       "      <td>Burn My Body (Album Version)</td>\n",
       "      <td>AR1C2IX1187B99BF74</td>\n",
       "      <td>0</td>\n",
       "      <td>177.99791</td>\n",
       "    </tr>\n",
       "  </tbody>\n",
       "</table>\n",
       "</div>"
      ],
      "text/plain": [
       "              song_id                                              title  \\\n",
       "0  SOHQZIB12A6D4F9FAF  N****_ What's Up [Featuring 50 Cent] (Album Ve...   \n",
       "1  SOCOHAX12A8C13B6B2                 Walking With The Duke (LP Version)   \n",
       "2  SOKNGDE12AB017CA4D                                Step Into Your Skin   \n",
       "3  SOQBZDP12AB0180E28                                  Depths Of Bavaria   \n",
       "4  SODZYPO12A8C13A91E                       Burn My Body (Album Version)   \n",
       "\n",
       "            artist_id  year   duration  \n",
       "0  ARWAFY51187FB5C4EF  2006  196.85832  \n",
       "1  ARE5F2F1187B9AB7E9  1966  152.16281  \n",
       "2  ARE4SDM1187FB4D7E4     0  139.72853  \n",
       "3  ARWRO6T1187B98C5D6  2008  257.46240  \n",
       "4  AR1C2IX1187B99BF74     0  177.99791  "
      ]
     },
     "execution_count": 10,
     "metadata": {},
     "output_type": "execute_result"
    }
   ],
   "source": [
    "songs_table = song_df.select(\"song_id\", \"title\", \"artist_id\", \"year\", \"duration\").dropDuplicates()\n",
    "songs_table.limit(5).toPandas()"
   ]
  },
  {
   "cell_type": "code",
   "execution_count": 11,
   "metadata": {},
   "outputs": [
    {
     "data": {
      "text/plain": [
       "604"
      ]
     },
     "execution_count": 11,
     "metadata": {},
     "output_type": "execute_result"
    }
   ],
   "source": [
    "songs_table.count()"
   ]
  },
  {
   "cell_type": "code",
   "execution_count": 20,
   "metadata": {},
   "outputs": [
    {
     "data": {
      "text/plain": [
       "0"
      ]
     },
     "execution_count": 20,
     "metadata": {},
     "output_type": "execute_result"
    }
   ],
   "source": [
    "songs_table.toPandas().duplicated().sum()"
   ]
  },
  {
   "cell_type": "markdown",
   "metadata": {},
   "source": [
    "### Create Artist Table"
   ]
  },
  {
   "cell_type": "code",
   "execution_count": 21,
   "metadata": {},
   "outputs": [],
   "source": [
    "artists_table = song_df.select('artist_id', 'artist_name', 'artist_location',\n",
    "                               'artist_latitude', 'artist_longitude') \\\n",
    "                            .withColumnRenamed(\"artist_name\", \"name\") \\\n",
    "                            .withColumnRenamed(\"artist_location\", \"location\") \\\n",
    "                            .withColumnRenamed(\"artist_latitude\", \"latitude\") \\\n",
    "                            .withColumnRenamed(\"artist_longitude\", \"longitude\").dropDuplicates()"
   ]
  },
  {
   "cell_type": "code",
   "execution_count": 22,
   "metadata": {},
   "outputs": [
    {
     "data": {
      "text/html": [
       "<div>\n",
       "<style scoped>\n",
       "    .dataframe tbody tr th:only-of-type {\n",
       "        vertical-align: middle;\n",
       "    }\n",
       "\n",
       "    .dataframe tbody tr th {\n",
       "        vertical-align: top;\n",
       "    }\n",
       "\n",
       "    .dataframe thead th {\n",
       "        text-align: right;\n",
       "    }\n",
       "</style>\n",
       "<table border=\"1\" class=\"dataframe\">\n",
       "  <thead>\n",
       "    <tr style=\"text-align: right;\">\n",
       "      <th></th>\n",
       "      <th>artist_id</th>\n",
       "      <th>name</th>\n",
       "      <th>location</th>\n",
       "      <th>latitude</th>\n",
       "      <th>longitude</th>\n",
       "    </tr>\n",
       "  </thead>\n",
       "  <tbody>\n",
       "    <tr>\n",
       "      <th>0</th>\n",
       "      <td>ARSVTNL1187B992A91</td>\n",
       "      <td>Jonathan King</td>\n",
       "      <td>London, England</td>\n",
       "      <td>51.50632</td>\n",
       "      <td>-0.12714</td>\n",
       "    </tr>\n",
       "    <tr>\n",
       "      <th>1</th>\n",
       "      <td>ARY0RQP1187FB48B93</td>\n",
       "      <td>Mickey 3D</td>\n",
       "      <td></td>\n",
       "      <td>NaN</td>\n",
       "      <td>NaN</td>\n",
       "    </tr>\n",
       "    <tr>\n",
       "      <th>2</th>\n",
       "      <td>ARPIKA31187FB4C233</td>\n",
       "      <td>The Action</td>\n",
       "      <td>New York</td>\n",
       "      <td>40.71455</td>\n",
       "      <td>-74.00712</td>\n",
       "    </tr>\n",
       "    <tr>\n",
       "      <th>3</th>\n",
       "      <td>ARX16TQ1187B9899C9</td>\n",
       "      <td>Oysterhead</td>\n",
       "      <td>New Orleans, LA</td>\n",
       "      <td>29.95369</td>\n",
       "      <td>-90.07771</td>\n",
       "    </tr>\n",
       "    <tr>\n",
       "      <th>4</th>\n",
       "      <td>ARE50SC1187B98C04A</td>\n",
       "      <td>The 69 Eyes</td>\n",
       "      <td>Helsinki, Finland</td>\n",
       "      <td>60.17116</td>\n",
       "      <td>24.93258</td>\n",
       "    </tr>\n",
       "  </tbody>\n",
       "</table>\n",
       "</div>"
      ],
      "text/plain": [
       "            artist_id           name           location  latitude  longitude\n",
       "0  ARSVTNL1187B992A91  Jonathan King    London, England  51.50632   -0.12714\n",
       "1  ARY0RQP1187FB48B93      Mickey 3D                          NaN        NaN\n",
       "2  ARPIKA31187FB4C233     The Action           New York  40.71455  -74.00712\n",
       "3  ARX16TQ1187B9899C9     Oysterhead    New Orleans, LA  29.95369  -90.07771\n",
       "4  ARE50SC1187B98C04A    The 69 Eyes  Helsinki, Finland  60.17116   24.93258"
      ]
     },
     "execution_count": 22,
     "metadata": {},
     "output_type": "execute_result"
    }
   ],
   "source": [
    "artists_table.limit(5).toPandas()"
   ]
  },
  {
   "cell_type": "code",
   "execution_count": 23,
   "metadata": {},
   "outputs": [
    {
     "data": {
      "text/plain": [
       "0"
      ]
     },
     "execution_count": 23,
     "metadata": {},
     "output_type": "execute_result"
    }
   ],
   "source": [
    "artists_table.toPandas().duplicated().sum()"
   ]
  },
  {
   "cell_type": "markdown",
   "metadata": {},
   "source": [
    "## Process Log Data"
   ]
  },
  {
   "cell_type": "code",
   "execution_count": 24,
   "metadata": {},
   "outputs": [],
   "source": [
    "log_data = os.path.join(input_data, \"log_data/*/*/*events.json\")"
   ]
  },
  {
   "cell_type": "code",
   "execution_count": 25,
   "metadata": {},
   "outputs": [],
   "source": [
    "df = spark.read.json(log_data)"
   ]
  },
  {
   "cell_type": "code",
   "execution_count": 26,
   "metadata": {},
   "outputs": [
    {
     "name": "stdout",
     "output_type": "stream",
     "text": [
      "root\n",
      " |-- artist: string (nullable = true)\n",
      " |-- auth: string (nullable = true)\n",
      " |-- firstName: string (nullable = true)\n",
      " |-- gender: string (nullable = true)\n",
      " |-- itemInSession: long (nullable = true)\n",
      " |-- lastName: string (nullable = true)\n",
      " |-- length: double (nullable = true)\n",
      " |-- level: string (nullable = true)\n",
      " |-- location: string (nullable = true)\n",
      " |-- method: string (nullable = true)\n",
      " |-- page: string (nullable = true)\n",
      " |-- registration: double (nullable = true)\n",
      " |-- sessionId: long (nullable = true)\n",
      " |-- song: string (nullable = true)\n",
      " |-- status: long (nullable = true)\n",
      " |-- ts: long (nullable = true)\n",
      " |-- userAgent: string (nullable = true)\n",
      " |-- userId: string (nullable = true)\n",
      "\n"
     ]
    }
   ],
   "source": [
    "df.printSchema()"
   ]
  },
  {
   "cell_type": "code",
   "execution_count": 27,
   "metadata": {},
   "outputs": [],
   "source": [
    "df = df.where('page == \"NextSong\"')"
   ]
  },
  {
   "cell_type": "code",
   "execution_count": 28,
   "metadata": {},
   "outputs": [
    {
     "data": {
      "text/plain": [
       "6820"
      ]
     },
     "execution_count": 28,
     "metadata": {},
     "output_type": "execute_result"
    }
   ],
   "source": [
    "df.count()"
   ]
  },
  {
   "cell_type": "code",
   "execution_count": 29,
   "metadata": {},
   "outputs": [
    {
     "data": {
      "text/html": [
       "<div>\n",
       "<style scoped>\n",
       "    .dataframe tbody tr th:only-of-type {\n",
       "        vertical-align: middle;\n",
       "    }\n",
       "\n",
       "    .dataframe tbody tr th {\n",
       "        vertical-align: top;\n",
       "    }\n",
       "\n",
       "    .dataframe thead th {\n",
       "        text-align: right;\n",
       "    }\n",
       "</style>\n",
       "<table border=\"1\" class=\"dataframe\">\n",
       "  <thead>\n",
       "    <tr style=\"text-align: right;\">\n",
       "      <th></th>\n",
       "      <th>artist</th>\n",
       "      <th>auth</th>\n",
       "      <th>firstName</th>\n",
       "      <th>gender</th>\n",
       "      <th>itemInSession</th>\n",
       "      <th>lastName</th>\n",
       "      <th>length</th>\n",
       "      <th>level</th>\n",
       "      <th>location</th>\n",
       "      <th>method</th>\n",
       "      <th>page</th>\n",
       "      <th>registration</th>\n",
       "      <th>sessionId</th>\n",
       "      <th>song</th>\n",
       "      <th>status</th>\n",
       "      <th>ts</th>\n",
       "      <th>userAgent</th>\n",
       "      <th>userId</th>\n",
       "    </tr>\n",
       "  </thead>\n",
       "  <tbody>\n",
       "    <tr>\n",
       "      <th>0</th>\n",
       "      <td>Harmonia</td>\n",
       "      <td>Logged In</td>\n",
       "      <td>Ryan</td>\n",
       "      <td>M</td>\n",
       "      <td>0</td>\n",
       "      <td>Smith</td>\n",
       "      <td>655.77751</td>\n",
       "      <td>free</td>\n",
       "      <td>San Jose-Sunnyvale-Santa Clara, CA</td>\n",
       "      <td>PUT</td>\n",
       "      <td>NextSong</td>\n",
       "      <td>1.541017e+12</td>\n",
       "      <td>583</td>\n",
       "      <td>Sehr kosmisch</td>\n",
       "      <td>200</td>\n",
       "      <td>1542241826796</td>\n",
       "      <td>\"Mozilla/5.0 (X11; Linux x86_64) AppleWebKit/5...</td>\n",
       "      <td>26</td>\n",
       "    </tr>\n",
       "    <tr>\n",
       "      <th>1</th>\n",
       "      <td>The Prodigy</td>\n",
       "      <td>Logged In</td>\n",
       "      <td>Ryan</td>\n",
       "      <td>M</td>\n",
       "      <td>1</td>\n",
       "      <td>Smith</td>\n",
       "      <td>260.07465</td>\n",
       "      <td>free</td>\n",
       "      <td>San Jose-Sunnyvale-Santa Clara, CA</td>\n",
       "      <td>PUT</td>\n",
       "      <td>NextSong</td>\n",
       "      <td>1.541017e+12</td>\n",
       "      <td>583</td>\n",
       "      <td>The Big Gundown</td>\n",
       "      <td>200</td>\n",
       "      <td>1542242481796</td>\n",
       "      <td>\"Mozilla/5.0 (X11; Linux x86_64) AppleWebKit/5...</td>\n",
       "      <td>26</td>\n",
       "    </tr>\n",
       "    <tr>\n",
       "      <th>2</th>\n",
       "      <td>Train</td>\n",
       "      <td>Logged In</td>\n",
       "      <td>Ryan</td>\n",
       "      <td>M</td>\n",
       "      <td>2</td>\n",
       "      <td>Smith</td>\n",
       "      <td>205.45261</td>\n",
       "      <td>free</td>\n",
       "      <td>San Jose-Sunnyvale-Santa Clara, CA</td>\n",
       "      <td>PUT</td>\n",
       "      <td>NextSong</td>\n",
       "      <td>1.541017e+12</td>\n",
       "      <td>583</td>\n",
       "      <td>Marry Me</td>\n",
       "      <td>200</td>\n",
       "      <td>1542242741796</td>\n",
       "      <td>\"Mozilla/5.0 (X11; Linux x86_64) AppleWebKit/5...</td>\n",
       "      <td>26</td>\n",
       "    </tr>\n",
       "    <tr>\n",
       "      <th>3</th>\n",
       "      <td>Sony Wonder</td>\n",
       "      <td>Logged In</td>\n",
       "      <td>Samuel</td>\n",
       "      <td>M</td>\n",
       "      <td>0</td>\n",
       "      <td>Gonzalez</td>\n",
       "      <td>218.06975</td>\n",
       "      <td>free</td>\n",
       "      <td>Houston-The Woodlands-Sugar Land, TX</td>\n",
       "      <td>PUT</td>\n",
       "      <td>NextSong</td>\n",
       "      <td>1.540493e+12</td>\n",
       "      <td>597</td>\n",
       "      <td>Blackbird</td>\n",
       "      <td>200</td>\n",
       "      <td>1542253449796</td>\n",
       "      <td>\"Mozilla/5.0 (Macintosh; Intel Mac OS X 10_9_4...</td>\n",
       "      <td>61</td>\n",
       "    </tr>\n",
       "    <tr>\n",
       "      <th>4</th>\n",
       "      <td>Van Halen</td>\n",
       "      <td>Logged In</td>\n",
       "      <td>Tegan</td>\n",
       "      <td>F</td>\n",
       "      <td>2</td>\n",
       "      <td>Levine</td>\n",
       "      <td>289.38404</td>\n",
       "      <td>paid</td>\n",
       "      <td>Portland-South Portland, ME</td>\n",
       "      <td>PUT</td>\n",
       "      <td>NextSong</td>\n",
       "      <td>1.540794e+12</td>\n",
       "      <td>602</td>\n",
       "      <td>Best Of Both Worlds (Remastered Album Version)</td>\n",
       "      <td>200</td>\n",
       "      <td>1542260935796</td>\n",
       "      <td>\"Mozilla/5.0 (Macintosh; Intel Mac OS X 10_9_4...</td>\n",
       "      <td>80</td>\n",
       "    </tr>\n",
       "  </tbody>\n",
       "</table>\n",
       "</div>"
      ],
      "text/plain": [
       "        artist       auth firstName gender  itemInSession  lastName  \\\n",
       "0     Harmonia  Logged In      Ryan      M              0     Smith   \n",
       "1  The Prodigy  Logged In      Ryan      M              1     Smith   \n",
       "2        Train  Logged In      Ryan      M              2     Smith   \n",
       "3  Sony Wonder  Logged In    Samuel      M              0  Gonzalez   \n",
       "4    Van Halen  Logged In     Tegan      F              2    Levine   \n",
       "\n",
       "      length level                              location method      page  \\\n",
       "0  655.77751  free    San Jose-Sunnyvale-Santa Clara, CA    PUT  NextSong   \n",
       "1  260.07465  free    San Jose-Sunnyvale-Santa Clara, CA    PUT  NextSong   \n",
       "2  205.45261  free    San Jose-Sunnyvale-Santa Clara, CA    PUT  NextSong   \n",
       "3  218.06975  free  Houston-The Woodlands-Sugar Land, TX    PUT  NextSong   \n",
       "4  289.38404  paid           Portland-South Portland, ME    PUT  NextSong   \n",
       "\n",
       "   registration  sessionId                                            song  \\\n",
       "0  1.541017e+12        583                                   Sehr kosmisch   \n",
       "1  1.541017e+12        583                                 The Big Gundown   \n",
       "2  1.541017e+12        583                                        Marry Me   \n",
       "3  1.540493e+12        597                                       Blackbird   \n",
       "4  1.540794e+12        602  Best Of Both Worlds (Remastered Album Version)   \n",
       "\n",
       "   status             ts                                          userAgent  \\\n",
       "0     200  1542241826796  \"Mozilla/5.0 (X11; Linux x86_64) AppleWebKit/5...   \n",
       "1     200  1542242481796  \"Mozilla/5.0 (X11; Linux x86_64) AppleWebKit/5...   \n",
       "2     200  1542242741796  \"Mozilla/5.0 (X11; Linux x86_64) AppleWebKit/5...   \n",
       "3     200  1542253449796  \"Mozilla/5.0 (Macintosh; Intel Mac OS X 10_9_4...   \n",
       "4     200  1542260935796  \"Mozilla/5.0 (Macintosh; Intel Mac OS X 10_9_4...   \n",
       "\n",
       "  userId  \n",
       "0     26  \n",
       "1     26  \n",
       "2     26  \n",
       "3     61  \n",
       "4     80  "
      ]
     },
     "execution_count": 29,
     "metadata": {},
     "output_type": "execute_result"
    }
   ],
   "source": [
    "df.limit(5).toPandas()"
   ]
  },
  {
   "cell_type": "code",
   "execution_count": 32,
   "metadata": {},
   "outputs": [
    {
     "data": {
      "text/plain": [
       "0"
      ]
     },
     "execution_count": 32,
     "metadata": {},
     "output_type": "execute_result"
    }
   ],
   "source": [
    "df.toPandas().duplicated().sum()"
   ]
  },
  {
   "cell_type": "markdown",
   "metadata": {},
   "source": [
    "### Create Users Table"
   ]
  },
  {
   "cell_type": "code",
   "execution_count": 33,
   "metadata": {},
   "outputs": [
    {
     "data": {
      "text/html": [
       "<div>\n",
       "<style scoped>\n",
       "    .dataframe tbody tr th:only-of-type {\n",
       "        vertical-align: middle;\n",
       "    }\n",
       "\n",
       "    .dataframe tbody tr th {\n",
       "        vertical-align: top;\n",
       "    }\n",
       "\n",
       "    .dataframe thead th {\n",
       "        text-align: right;\n",
       "    }\n",
       "</style>\n",
       "<table border=\"1\" class=\"dataframe\">\n",
       "  <thead>\n",
       "    <tr style=\"text-align: right;\">\n",
       "      <th></th>\n",
       "      <th>user_id</th>\n",
       "      <th>first_name</th>\n",
       "      <th>last_name</th>\n",
       "      <th>gender</th>\n",
       "      <th>level</th>\n",
       "    </tr>\n",
       "  </thead>\n",
       "  <tbody>\n",
       "    <tr>\n",
       "      <th>0</th>\n",
       "      <td>26</td>\n",
       "      <td>Ryan</td>\n",
       "      <td>Smith</td>\n",
       "      <td>M</td>\n",
       "      <td>free</td>\n",
       "    </tr>\n",
       "    <tr>\n",
       "      <th>1</th>\n",
       "      <td>7</td>\n",
       "      <td>Adelyn</td>\n",
       "      <td>Jordan</td>\n",
       "      <td>F</td>\n",
       "      <td>free</td>\n",
       "    </tr>\n",
       "    <tr>\n",
       "      <th>2</th>\n",
       "      <td>71</td>\n",
       "      <td>Ayleen</td>\n",
       "      <td>Wise</td>\n",
       "      <td>F</td>\n",
       "      <td>free</td>\n",
       "    </tr>\n",
       "    <tr>\n",
       "      <th>3</th>\n",
       "      <td>81</td>\n",
       "      <td>Sienna</td>\n",
       "      <td>Colon</td>\n",
       "      <td>F</td>\n",
       "      <td>free</td>\n",
       "    </tr>\n",
       "    <tr>\n",
       "      <th>4</th>\n",
       "      <td>87</td>\n",
       "      <td>Dustin</td>\n",
       "      <td>Lee</td>\n",
       "      <td>M</td>\n",
       "      <td>free</td>\n",
       "    </tr>\n",
       "    <tr>\n",
       "      <th>5</th>\n",
       "      <td>23</td>\n",
       "      <td>Morris</td>\n",
       "      <td>Gilmore</td>\n",
       "      <td>M</td>\n",
       "      <td>free</td>\n",
       "    </tr>\n",
       "    <tr>\n",
       "      <th>6</th>\n",
       "      <td>75</td>\n",
       "      <td>Joseph</td>\n",
       "      <td>Gutierrez</td>\n",
       "      <td>M</td>\n",
       "      <td>free</td>\n",
       "    </tr>\n",
       "    <tr>\n",
       "      <th>7</th>\n",
       "      <td>16</td>\n",
       "      <td>Rylan</td>\n",
       "      <td>George</td>\n",
       "      <td>M</td>\n",
       "      <td>paid</td>\n",
       "    </tr>\n",
       "    <tr>\n",
       "      <th>8</th>\n",
       "      <td>2</td>\n",
       "      <td>Jizelle</td>\n",
       "      <td>Benjamin</td>\n",
       "      <td>F</td>\n",
       "      <td>free</td>\n",
       "    </tr>\n",
       "    <tr>\n",
       "      <th>9</th>\n",
       "      <td>3</td>\n",
       "      <td>Isaac</td>\n",
       "      <td>Valdez</td>\n",
       "      <td>M</td>\n",
       "      <td>free</td>\n",
       "    </tr>\n",
       "  </tbody>\n",
       "</table>\n",
       "</div>"
      ],
      "text/plain": [
       "  user_id first_name  last_name gender level\n",
       "0      26       Ryan      Smith      M  free\n",
       "1       7     Adelyn     Jordan      F  free\n",
       "2      71     Ayleen       Wise      F  free\n",
       "3      81     Sienna      Colon      F  free\n",
       "4      87     Dustin        Lee      M  free\n",
       "5      23     Morris    Gilmore      M  free\n",
       "6      75     Joseph  Gutierrez      M  free\n",
       "7      16      Rylan     George      M  paid\n",
       "8       2    Jizelle   Benjamin      F  free\n",
       "9       3      Isaac     Valdez      M  free"
      ]
     },
     "execution_count": 33,
     "metadata": {},
     "output_type": "execute_result"
    }
   ],
   "source": [
    "users_table = df.selectExpr('userId as user_id', 'firstName as first_name', \n",
    "                                'lastName as last_name', 'gender', 'level').dropDuplicates()\n",
    "users_table.limit(10).toPandas()"
   ]
  },
  {
   "cell_type": "code",
   "execution_count": 34,
   "metadata": {},
   "outputs": [
    {
     "data": {
      "text/plain": [
       "0"
      ]
     },
     "execution_count": 34,
     "metadata": {},
     "output_type": "execute_result"
    }
   ],
   "source": [
    "users_table.toPandas().duplicated().sum()"
   ]
  },
  {
   "cell_type": "markdown",
   "metadata": {},
   "source": [
    "### Create Time Table"
   ]
  },
  {
   "cell_type": "code",
   "execution_count": 35,
   "metadata": {},
   "outputs": [],
   "source": [
    "get_timestamp = udf(lambda x: datetime.fromtimestamp(x/1000), TimestampType())\n",
    "df = df.withColumn(\"timestamp\", get_timestamp(df.ts))\n",
    "\n",
    "get_datetime = udf(lambda x: datetime.fromtimestamp(x/1000), TimestampType())\n",
    "df = df.withColumn(\"datetime\", get_timestamp(df.ts))"
   ]
  },
  {
   "cell_type": "code",
   "execution_count": 36,
   "metadata": {},
   "outputs": [],
   "source": [
    "time_table = df.select('datetime') \\\n",
    "                   .withColumn('start_time', df.datetime) \\\n",
    "                   .withColumn('hour', hour('datetime')) \\\n",
    "                   .withColumn('day', dayofmonth('datetime')) \\\n",
    "                   .withColumn('week', weekofyear('datetime')) \\\n",
    "                   .withColumn('month', month('datetime')) \\\n",
    "                   .withColumn('year', year('datetime')) \\\n",
    "                   .withColumn('weekday', dayofweek('datetime')) \\\n",
    "                   .dropDuplicates()"
   ]
  },
  {
   "cell_type": "code",
   "execution_count": 52,
   "metadata": {},
   "outputs": [
    {
     "data": {
      "text/html": [
       "<div>\n",
       "<style scoped>\n",
       "    .dataframe tbody tr th:only-of-type {\n",
       "        vertical-align: middle;\n",
       "    }\n",
       "\n",
       "    .dataframe tbody tr th {\n",
       "        vertical-align: top;\n",
       "    }\n",
       "\n",
       "    .dataframe thead th {\n",
       "        text-align: right;\n",
       "    }\n",
       "</style>\n",
       "<table border=\"1\" class=\"dataframe\">\n",
       "  <thead>\n",
       "    <tr style=\"text-align: right;\">\n",
       "      <th></th>\n",
       "      <th>datetime</th>\n",
       "      <th>start_time</th>\n",
       "      <th>hour</th>\n",
       "      <th>day</th>\n",
       "      <th>week</th>\n",
       "      <th>month</th>\n",
       "      <th>year</th>\n",
       "      <th>weekday</th>\n",
       "    </tr>\n",
       "  </thead>\n",
       "  <tbody>\n",
       "    <tr>\n",
       "      <th>0</th>\n",
       "      <td>2018-11-15 10:45:04.796</td>\n",
       "      <td>2018-11-15 10:45:04.796</td>\n",
       "      <td>10</td>\n",
       "      <td>15</td>\n",
       "      <td>46</td>\n",
       "      <td>11</td>\n",
       "      <td>2018</td>\n",
       "      <td>5</td>\n",
       "    </tr>\n",
       "    <tr>\n",
       "      <th>1</th>\n",
       "      <td>2018-11-21 11:07:38.796</td>\n",
       "      <td>2018-11-21 11:07:38.796</td>\n",
       "      <td>11</td>\n",
       "      <td>21</td>\n",
       "      <td>47</td>\n",
       "      <td>11</td>\n",
       "      <td>2018</td>\n",
       "      <td>4</td>\n",
       "    </tr>\n",
       "    <tr>\n",
       "      <th>2</th>\n",
       "      <td>2018-11-21 11:34:42.796</td>\n",
       "      <td>2018-11-21 11:34:42.796</td>\n",
       "      <td>11</td>\n",
       "      <td>21</td>\n",
       "      <td>47</td>\n",
       "      <td>11</td>\n",
       "      <td>2018</td>\n",
       "      <td>4</td>\n",
       "    </tr>\n",
       "    <tr>\n",
       "      <th>3</th>\n",
       "      <td>2018-11-14 08:23:12.796</td>\n",
       "      <td>2018-11-14 08:23:12.796</td>\n",
       "      <td>8</td>\n",
       "      <td>14</td>\n",
       "      <td>46</td>\n",
       "      <td>11</td>\n",
       "      <td>2018</td>\n",
       "      <td>4</td>\n",
       "    </tr>\n",
       "    <tr>\n",
       "      <th>4</th>\n",
       "      <td>2018-11-14 08:47:08.796</td>\n",
       "      <td>2018-11-14 08:47:08.796</td>\n",
       "      <td>8</td>\n",
       "      <td>14</td>\n",
       "      <td>46</td>\n",
       "      <td>11</td>\n",
       "      <td>2018</td>\n",
       "      <td>4</td>\n",
       "    </tr>\n",
       "  </tbody>\n",
       "</table>\n",
       "</div>"
      ],
      "text/plain": [
       "                 datetime              start_time  hour  day  week  month  \\\n",
       "0 2018-11-15 10:45:04.796 2018-11-15 10:45:04.796    10   15    46     11   \n",
       "1 2018-11-21 11:07:38.796 2018-11-21 11:07:38.796    11   21    47     11   \n",
       "2 2018-11-21 11:34:42.796 2018-11-21 11:34:42.796    11   21    47     11   \n",
       "3 2018-11-14 08:23:12.796 2018-11-14 08:23:12.796     8   14    46     11   \n",
       "4 2018-11-14 08:47:08.796 2018-11-14 08:47:08.796     8   14    46     11   \n",
       "\n",
       "   year  weekday  \n",
       "0  2018        5  \n",
       "1  2018        4  \n",
       "2  2018        4  \n",
       "3  2018        4  \n",
       "4  2018        4  "
      ]
     },
     "execution_count": 52,
     "metadata": {},
     "output_type": "execute_result"
    }
   ],
   "source": [
    "time_table.limit(5).toPandas()"
   ]
  },
  {
   "cell_type": "code",
   "execution_count": 37,
   "metadata": {},
   "outputs": [
    {
     "data": {
      "text/plain": [
       "0"
      ]
     },
     "execution_count": 37,
     "metadata": {},
     "output_type": "execute_result"
    }
   ],
   "source": [
    "time_table.toPandas().duplicated().sum()"
   ]
  },
  {
   "cell_type": "markdown",
   "metadata": {},
   "source": [
    "### Create Songplays Table"
   ]
  },
  {
   "cell_type": "code",
   "execution_count": 38,
   "metadata": {},
   "outputs": [],
   "source": [
    "song_df = spark.read.json(song_data)"
   ]
  },
  {
   "cell_type": "code",
   "execution_count": 41,
   "metadata": {},
   "outputs": [],
   "source": [
    "songplays_table = df.join(\n",
    "    song_df, \n",
    "    song_df.artist_name == df.artist, \n",
    "    'inner'\n",
    ") \\\n",
    ".distinct() \\\n",
    ".select(\n",
    "    col('timestamp'), \n",
    "    col('userId'), \n",
    "    col('level'), \n",
    "    col('sessionId'),\n",
    "    col('location'), \n",
    "    col('userAgent'), \n",
    "    col('song_id'), \n",
    "    col('artist_id')) \\\n",
    ".withColumn('songplay_id', monotonically_increasing_id()) \\\n",
    ".withColumn('month', month('timestamp')) \\\n",
    ".withColumn('year', year('timestamp')).dropDuplicates()"
   ]
  },
  {
   "cell_type": "code",
   "execution_count": 42,
   "metadata": {},
   "outputs": [
    {
     "data": {
      "text/html": [
       "<div>\n",
       "<style scoped>\n",
       "    .dataframe tbody tr th:only-of-type {\n",
       "        vertical-align: middle;\n",
       "    }\n",
       "\n",
       "    .dataframe tbody tr th {\n",
       "        vertical-align: top;\n",
       "    }\n",
       "\n",
       "    .dataframe thead th {\n",
       "        text-align: right;\n",
       "    }\n",
       "</style>\n",
       "<table border=\"1\" class=\"dataframe\">\n",
       "  <thead>\n",
       "    <tr style=\"text-align: right;\">\n",
       "      <th></th>\n",
       "      <th>timestamp</th>\n",
       "      <th>userId</th>\n",
       "      <th>level</th>\n",
       "      <th>sessionId</th>\n",
       "      <th>location</th>\n",
       "      <th>userAgent</th>\n",
       "      <th>song_id</th>\n",
       "      <th>artist_id</th>\n",
       "      <th>songplay_id</th>\n",
       "      <th>month</th>\n",
       "      <th>year</th>\n",
       "    </tr>\n",
       "  </thead>\n",
       "  <tbody>\n",
       "    <tr>\n",
       "      <th>0</th>\n",
       "      <td>2018-11-16 00:15:12.796</td>\n",
       "      <td>44</td>\n",
       "      <td>paid</td>\n",
       "      <td>637</td>\n",
       "      <td>Waterloo-Cedar Falls, IA</td>\n",
       "      <td>Mozilla/5.0 (Macintosh; Intel Mac OS X 10.9; r...</td>\n",
       "      <td>SOLGHDZ12AB0183B11</td>\n",
       "      <td>ARF2EHS1187B994F4E</td>\n",
       "      <td>0</td>\n",
       "      <td>11</td>\n",
       "      <td>2018</td>\n",
       "    </tr>\n",
       "    <tr>\n",
       "      <th>1</th>\n",
       "      <td>2018-11-13 10:22:14.796</td>\n",
       "      <td>44</td>\n",
       "      <td>paid</td>\n",
       "      <td>474</td>\n",
       "      <td>Waterloo-Cedar Falls, IA</td>\n",
       "      <td>Mozilla/5.0 (Macintosh; Intel Mac OS X 10.9; r...</td>\n",
       "      <td>SOLGHDZ12AB0183B11</td>\n",
       "      <td>ARF2EHS1187B994F4E</td>\n",
       "      <td>1125281431553</td>\n",
       "      <td>11</td>\n",
       "      <td>2018</td>\n",
       "    </tr>\n",
       "    <tr>\n",
       "      <th>2</th>\n",
       "      <td>2018-11-21 19:08:21.796</td>\n",
       "      <td>97</td>\n",
       "      <td>paid</td>\n",
       "      <td>817</td>\n",
       "      <td>Lansing-East Lansing, MI</td>\n",
       "      <td>\"Mozilla/5.0 (X11; Linux x86_64) AppleWebKit/5...</td>\n",
       "      <td>SOLGHDZ12AB0183B11</td>\n",
       "      <td>ARF2EHS1187B994F4E</td>\n",
       "      <td>292057776128</td>\n",
       "      <td>11</td>\n",
       "      <td>2018</td>\n",
       "    </tr>\n",
       "    <tr>\n",
       "      <th>3</th>\n",
       "      <td>2018-11-21 04:57:02.796</td>\n",
       "      <td>97</td>\n",
       "      <td>paid</td>\n",
       "      <td>797</td>\n",
       "      <td>Lansing-East Lansing, MI</td>\n",
       "      <td>\"Mozilla/5.0 (X11; Linux x86_64) AppleWebKit/5...</td>\n",
       "      <td>SOLGHDZ12AB0183B11</td>\n",
       "      <td>ARF2EHS1187B994F4E</td>\n",
       "      <td>652835028992</td>\n",
       "      <td>11</td>\n",
       "      <td>2018</td>\n",
       "    </tr>\n",
       "    <tr>\n",
       "      <th>4</th>\n",
       "      <td>2018-11-15 17:33:22.796</td>\n",
       "      <td>42</td>\n",
       "      <td>paid</td>\n",
       "      <td>404</td>\n",
       "      <td>New York-Newark-Jersey City, NY-NJ-PA</td>\n",
       "      <td>\"Mozilla/5.0 (Windows NT 6.3; WOW64) AppleWebK...</td>\n",
       "      <td>SOJREJG12AB0180438</td>\n",
       "      <td>ARO81SS1187B996629</td>\n",
       "      <td>1623497637888</td>\n",
       "      <td>11</td>\n",
       "      <td>2018</td>\n",
       "    </tr>\n",
       "  </tbody>\n",
       "</table>\n",
       "</div>"
      ],
      "text/plain": [
       "                timestamp userId level  sessionId  \\\n",
       "0 2018-11-16 00:15:12.796     44  paid        637   \n",
       "1 2018-11-13 10:22:14.796     44  paid        474   \n",
       "2 2018-11-21 19:08:21.796     97  paid        817   \n",
       "3 2018-11-21 04:57:02.796     97  paid        797   \n",
       "4 2018-11-15 17:33:22.796     42  paid        404   \n",
       "\n",
       "                                location  \\\n",
       "0               Waterloo-Cedar Falls, IA   \n",
       "1               Waterloo-Cedar Falls, IA   \n",
       "2               Lansing-East Lansing, MI   \n",
       "3               Lansing-East Lansing, MI   \n",
       "4  New York-Newark-Jersey City, NY-NJ-PA   \n",
       "\n",
       "                                           userAgent             song_id  \\\n",
       "0  Mozilla/5.0 (Macintosh; Intel Mac OS X 10.9; r...  SOLGHDZ12AB0183B11   \n",
       "1  Mozilla/5.0 (Macintosh; Intel Mac OS X 10.9; r...  SOLGHDZ12AB0183B11   \n",
       "2  \"Mozilla/5.0 (X11; Linux x86_64) AppleWebKit/5...  SOLGHDZ12AB0183B11   \n",
       "3  \"Mozilla/5.0 (X11; Linux x86_64) AppleWebKit/5...  SOLGHDZ12AB0183B11   \n",
       "4  \"Mozilla/5.0 (Windows NT 6.3; WOW64) AppleWebK...  SOJREJG12AB0180438   \n",
       "\n",
       "            artist_id    songplay_id  month  year  \n",
       "0  ARF2EHS1187B994F4E              0     11  2018  \n",
       "1  ARF2EHS1187B994F4E  1125281431553     11  2018  \n",
       "2  ARF2EHS1187B994F4E   292057776128     11  2018  \n",
       "3  ARF2EHS1187B994F4E   652835028992     11  2018  \n",
       "4  ARO81SS1187B996629  1623497637888     11  2018  "
      ]
     },
     "execution_count": 42,
     "metadata": {},
     "output_type": "execute_result"
    }
   ],
   "source": [
    "songplays_table.limit(5).toPandas()"
   ]
  },
  {
   "cell_type": "code",
   "execution_count": 43,
   "metadata": {},
   "outputs": [
    {
     "data": {
      "text/plain": [
       "430"
      ]
     },
     "execution_count": 43,
     "metadata": {},
     "output_type": "execute_result"
    }
   ],
   "source": [
    "songplays_table.count()"
   ]
  },
  {
   "cell_type": "code",
   "execution_count": null,
   "metadata": {},
   "outputs": [],
   "source": []
  }
 ],
 "metadata": {
  "kernelspec": {
   "display_name": "Python 3 (ipykernel)",
   "language": "python",
   "name": "python3"
  },
  "language_info": {
   "codemirror_mode": {
    "name": "ipython",
    "version": 3
   },
   "file_extension": ".py",
   "mimetype": "text/x-python",
   "name": "python",
   "nbconvert_exporter": "python",
   "pygments_lexer": "ipython3",
   "version": "3.8.12"
  }
 },
 "nbformat": 4,
 "nbformat_minor": 4
}
